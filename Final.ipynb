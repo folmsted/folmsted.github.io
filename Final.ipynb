{
 "cells": [
  {
   "cell_type": "code",
   "execution_count": 1,
   "metadata": {},
   "outputs": [],
   "source": [
    "from bs4 import BeautifulSoup\n",
    "import numpy as np\n",
    "import pandas as pd\n",
    "import requests\n",
    "import re"
   ]
  },
  {
   "cell_type": "markdown",
   "metadata": {},
   "source": [
    "Appointments to the Supreme Court have been some of the most divisive and heated moments of the Trump presidency, starting even before he came to office.  The first appointment he made was to the seat vacated by Antonin Scalia in 2016, which Senate Republicans under Mitch McConnell refused to consider filling with President Obama's nominee, Merrick Garland (see https://www.republicanleader.senate.gov/newsroom/remarks/mcconnell-on-supreme-court-nomination for a statement from McConnell on the issue).  When Anthony Kennedy announced his retirement in 2018, the president nominated Brett Kavanaugh, and he was later confirmed along strict party lines amidst allegations of sexual assault.  The president's last nominee, Amy Coney Barrett, was confirmed less than a month before the election which he lost, leading to accusations that the appointment was undemocratic and, in light of Senate Republicans' behavior in 2016 with Garland, hypocrticial.  It was all the more stinging for liberals that the seat had been vacated by Justice Ginsburg, whose replacement will almost certainly mean a significant change in the Court's ideological makeup and future jurisprudence.  While the eventual effects of Mr. Trump's appointees are still unclear, it seems likely that we will experience another rightward shift in the Court's opinions.  Since the Unites States operates under the Common Law, these opinions carry the weight of law (known as _case law_, to distinguish it from _statutory law_ which is passed by Congress) and are considered _binding precedent_, which is to say that future courts will be required to abide by the decisions.  So the Supreme Court could be about to make conservative precedents that will be very hard to reverse, even by possible future liberal courts.\n",
    "\n",
    "We know the Supreme Court has issued important decisions in the past which have greatly altered the legal landscape in the United States (noteworthy examples include Gideon v. Wainwright (https://supreme.justia.com/cases/federal/us/372/335/), mandating court-appointed lawyers where the defendent cannot afford counsel; Miranda v. Arizona (https://supreme.justia.com/cases/federal/us/384/436/), which established an obligation for police to inform detainees of their consitutional rights; and Roe v. Wade (https://supreme.justia.com/cases/federal/us/410/113/), which created a nation-wide right to abortion).  There have been swings in the ideological makeup of the Supreme Court in the past.  In particular, the Warren Court is notable for its many liberal rulings, with some even calling the period a \"Consititutional revolution\" (see https://scholarlycommons.law.wlu.edu/cgi/viewcontent.cgi?article=1814&context=wlulr and https://web.archive.org/web/20191003223936/https://core.ac.uk/download/pdf/73968804.pdf).  Following appointments of Ronald Reagan, the court shifted considerably to the right (see https://constitutioncenter.org/blog/ronald-reagans-big-impact-on-the-supreme-court/), with Reagan elevating the conservative William Rehnquist to the office of Chief Justice and appoiting three new associates: O'Connor, Scalia, and Kennedy.  The Rehnquist court is known for its conservative tendencies, and while it did not reverse the most profound decisions of the Warren Court, it did not generally expand on them (see https://www.theatlantic.com/magazine/archive/2005/04/rehnquist-the-great/303820/ for more information on Rehnquist, especially his tactical skill in using the powers of the Chief Justice to achieve his desired legal outcome).\n",
    "\n",
    "I was curious about the long-term effects of these courts and their influence on American law; in particular, how significant are the cases from the \"Constitutional revolution\" of the Warren court, and do we observe new important cases during and after the Reagan era (during the Rehnquist Court)?  To answer this, we need some standard of what makes a court case \"important\" in a legal sense, and how we can measure this in an objective way.  In countries that operate under the Common Law, when courts make a ruling on a case, they will often write an _opinion_ which gives the reasons for their decision.  Because of the importance of precedent under the Common Law, judges will frequently choose to cite previous cases which are similar, or which are relevant to making a decision in the case at hand.  This gives us a fairly obvious metric for determining important cases: those which are frequently cited are more influential.  This is reminiscent of another famous problem: that of page ranking.  If we imagine cases as webpages and citations as links, this problem can be recast as a problem where we want to rank pages according to thier influence.  Google famously had an algorithm for this, and many libraries on graphs implement it, so this will likely be a very convenient and useful metric for gauging the impact of a decision."
   ]
  },
  {
   "cell_type": "code",
   "execution_count": 2,
   "metadata": {},
   "outputs": [
    {
     "name": "stdout",
     "output_type": "stream",
     "text": [
      "10107\n"
     ]
    }
   ],
   "source": [
    "# Volume 326 corresponds to the cases decided early in the Vinson court in 1945,\n",
    "# as the Second World War came to a close.  Volume 571 is the last volume compiled\n",
    "# by the U.S. reports and includes cases as recent as 2014.\n",
    "VOLUME_START = 326\n",
    "VOLUME_END = 571\n",
    "# For searching a page for court citations\n",
    "case_regex = re.compile('\\d+\\s+U\\.\\s*S\\.\\s+\\d+')\n",
    "# For extracting the volume and case number from an appropriately formatted citation\n",
    "case_volume_regex = re.compile('(\\d+)\\s+U\\.S\\.\\s+(\\d+)')\n",
    "wiki_url_base = 'https://en.wikipedia.org/wiki/List_of_United_States_Supreme_Court_cases,_volume_'\n",
    "cases = []\n",
    "# For removing certain issues related to html formatting.  In particular, tags can\n",
    "# interfere with citations if part of the citation is bold or italicized, and spaces\n",
    "# rendered in html with nbsp; will not be marked as whitespace by regular expressions\n",
    "# so we remove these obstacles.\n",
    "html_fixer = re.compile('(<[^>]*>)')\n",
    "space_fixer = re.compile('(nbsp;)|(&#32;)')\n",
    "i = VOLUME_START\n",
    "while i <= VOLUME_END:\n",
    "    r = requests.get(wiki_url_base + str(i))\n",
    "    s = r.text\n",
    "    s = html_fixer.sub('', s)\n",
    "    s = space_fixer.sub(' ', s)\n",
    "    # finds all case citations on the webpage\n",
    "    matches = case_regex.findall(s)\n",
    "    for j in range(len(matches)):\n",
    "        # fixing some formatting issues to avoid inconsistency\n",
    "        # We want the format '\\d{3} U\\.S\\. \\d{1-3}'\n",
    "        matches[j] = matches[j].replace('U. S.', 'U.S.')\n",
    "    cases = cases + matches\n",
    "    i += 1\n",
    "# removing duplicate cases sometimes found due to the same citation occuring\n",
    "# in a hyperlink.  We also sort the cases alphabetically, which does not sort\n",
    "# by page exactly, but at least divides the volumes into discrete blocks in\n",
    "# increasing order\n",
    "cases = list(set(cases))\n",
    "cases.sort()\n",
    "print(len(cases))"
   ]
  },
  {
   "cell_type": "code",
   "execution_count": 3,
   "metadata": {},
   "outputs": [
    {
     "name": "stdout",
     "output_type": "stream",
     "text": [
      "starting volume  340\n",
      "starting volume  360\n",
      "starting volume  380\n",
      "starting volume  400\n",
      "starting volume  420\n",
      "starting volume  440\n",
      "starting volume  460\n",
      "starting volume  480\n",
      "starting volume  500\n",
      "starting volume  520\n",
      "starting volume  540\n",
      "starting volume  560\n",
      "Number of failed cases:  156\n",
      "number of cases examined:  9951 number of citation lists:  9951\n"
     ]
    }
   ],
   "source": [
    "# A list which contains, at entry i, a list of all the cases cited by cases[i].\n",
    "# It will be the basis of the edge list we create our graph with\n",
    "cases_cited = []\n",
    "current_volume = str(VOLUME_START)\n",
    "justia_url_base = 'https://supreme.justia.com/cases/federal/us/'\\\n",
    "# A map from cases to the years the cases were decided.\n",
    "cases_years = {}\n",
    "failed_cases = []\n",
    "# for finding the year of a case from its heading on justia's website\n",
    "year_regex = re.compile('\\d+\\s+U.\\s*S.\\s+\\d+\\s+\\((\\d{4})\\)')\n",
    "for c in cases:\n",
    "    m = case_volume_regex.match(c)\n",
    "    # gathering the case and volume numbers to prepare a search\n",
    "    volume,  case = m[1], m[2]\n",
    "    if volume != current_volume and int(volume) % 20 == 0:\n",
    "        # This loop can take a very long time.  This print\n",
    "        # statement shows when 20 volumes have been completed.\n",
    "        print('starting volume ', volume)\n",
    "        current_volume = volume\n",
    "    case_url = justia_url_base + volume + '/' + case\n",
    "    r = requests.get(case_url)\n",
    "    \n",
    "    # This extracts the year from the heading for the case and stores\n",
    "    # it for later use.\n",
    "    year_matches = year_regex.findall(r.text)\n",
    "    if year_matches:\n",
    "        cases_years[c] = int(year_matches[0])\n",
    "    else:\n",
    "        # some cases mentioned in the wikipedia lists cannot be found\n",
    "        # on justia, and I struggle to find mention of them elsewhere\n",
    "        # Since they number only about 150, I have omitted these cases\n",
    "        failed_cases.append(c)\n",
    "        continue\n",
    "    \n",
    "    # find all cases mentioned on the webpage for this particular case\n",
    "    matches = case_regex.findall(r.text)\n",
    "    for i in range(len(matches)):\n",
    "        # Fixing formatting again.  We want the same format as we had\n",
    "        # when we .gathered cases earlier for these citations (which\n",
    "        # are themselves cases)\n",
    "        matches[i] = matches[i].replace('U. S.', 'U.S.')\n",
    "    # we will not allow multiedges for our purposes.  Case A either\n",
    "    # references Case B at least once or it does not mention it at all\n",
    "    cases_cited.append(list(set(matches)))\n",
    "    \n",
    "# Removing the cases for which no year could be found\n",
    "cases = [c for c in cases if c not in failed_cases]\n",
    "print('Number of failed cases: ', len(failed_cases))\n",
    "print('number of cases examined: ', len(cases), 'number of citation lists: ', len(cases_cited))\n"
   ]
  },
  {
   "cell_type": "code",
   "execution_count": 4,
   "metadata": {},
   "outputs": [],
   "source": [
    "# This case is given as being decided in 1053.  If true, this would be some\n",
    "# of the oldest legal precedent in Anglo-Saxon law, but it's more likely a\n",
    "# typo or a machine's misreading of a 9 as a 0.\n",
    "cases_years['346 U.S. 119'] = 1953"
   ]
  },
  {
   "cell_type": "code",
   "execution_count": 5,
   "metadata": {},
   "outputs": [],
   "source": [
    "# remove references to cases not in our list of cases, which\n",
    "# will include cases from before the start of our time period\n",
    "# of interest, and citations to the inner pages of cases already\n",
    "# cited in the decision\n",
    "pruned_cases_cited = []\n",
    "for l in cases_cited:\n",
    "    pruned_list = [case for case in l if case in cases]\n",
    "    pruned_cases_cited.append(pruned_list)\n",
    "# by the way the references were collected, cases will reference\n",
    "# themselves, so we should correct that.\n",
    "for i in range(len(cases)):\n",
    "    if cases[i] in pruned_cases_cited[i]:\n",
    "        pruned_cases_cited[i].remove(cases[i])\n",
    "cases_cited = pruned_cases_cited"
   ]
  },
  {
   "cell_type": "code",
   "execution_count": 6,
   "metadata": {},
   "outputs": [
    {
     "name": "stdout",
     "output_type": "stream",
     "text": [
      "91373\n"
     ]
    }
   ],
   "source": [
    "# This will tell us how many citations we were able to collect.\n",
    "num_citations = 0\n",
    "for l in pruned_cases_cited:\n",
    "    num_citations += len(l)\n",
    "print(num_citations)"
   ]
  },
  {
   "cell_type": "code",
   "execution_count": 7,
   "metadata": {},
   "outputs": [],
   "source": [
    "import networkx as nx"
   ]
  },
  {
   "cell_type": "markdown",
   "metadata": {},
   "source": [
    "Cases' references to each other are one-way, in that a prior case is used to judge a current one, and not the other way around, so we want a directed graph.  This fact also means that the structure of this graph will for the most part avoid cycles, but there may be occasions where the Court decided two cases contemporaneously and one refers to a later-indexed case within the same volume (and possible vice-versa); but no case will ever cite a case which occurs in a later volume."
   ]
  },
  {
   "cell_type": "code",
   "execution_count": 8,
   "metadata": {},
   "outputs": [],
   "source": [
    "G = nx.DiGraph()\n",
    "for case in cases:\n",
    "    G.add_node(case)\n",
    "for i in range(len(cases)):\n",
    "    case1 = cases[i]\n",
    "    adjacencies = pruned_cases_cited[i]\n",
    "    for case2 in adjacencies:\n",
    "        G.add_edge(case1, case2)"
   ]
  },
  {
   "cell_type": "code",
   "execution_count": 9,
   "metadata": {},
   "outputs": [],
   "source": [
    "ranks = nx.pagerank(G, max_iter = 200)"
   ]
  },
  {
   "cell_type": "code",
   "execution_count": 10,
   "metadata": {},
   "outputs": [],
   "source": [
    "years_list = list(cases_years.values())\n",
    "ranks_list = list(ranks.values())\n",
    "df = pd.DataFrame({'case' : cases, 'year' : years_list, 'rank' : ranks_list})\n",
    "\n",
    "now = 2014 # last year the reporter has covered is 2014, so this the natural \"current year\"\n",
    "\n",
    "# because cases can reference past cases, but not future ones, it is reasonable to\n",
    "# expect that the earliest cases will be the most influential simply because they have\n",
    "# had more chances to accumulate citations.  It seems appropriate to attempt to adjust\n",
    "# the rank somehow, either by number of years since, or by number of cases that occured\n",
    "# after.  We will examine both.\n",
    "df['rank per year'] = df.apply(lambda tup: tup['rank'] / (now - tup['year'] + 1), axis=1)\n",
    "df['rank per cases after'] = df.apply(lambda tup: tup['rank'] / (len(df[df['year'] >= tup['year']])), axis=1)"
   ]
  },
  {
   "cell_type": "code",
   "execution_count": 11,
   "metadata": {},
   "outputs": [
    {
     "data": {
      "text/html": [
       "<div>\n",
       "<style scoped>\n",
       "    .dataframe tbody tr th:only-of-type {\n",
       "        vertical-align: middle;\n",
       "    }\n",
       "\n",
       "    .dataframe tbody tr th {\n",
       "        vertical-align: top;\n",
       "    }\n",
       "\n",
       "    .dataframe thead th {\n",
       "        text-align: right;\n",
       "    }\n",
       "</style>\n",
       "<table border=\"1\" class=\"dataframe\">\n",
       "  <thead>\n",
       "    <tr style=\"text-align: right;\">\n",
       "      <th></th>\n",
       "      <th>case</th>\n",
       "      <th>year</th>\n",
       "      <th>rank</th>\n",
       "      <th>rank per year</th>\n",
       "      <th>rank per cases after</th>\n",
       "    </tr>\n",
       "  </thead>\n",
       "  <tbody>\n",
       "    <tr>\n",
       "      <th>34</th>\n",
       "      <td>326 U.S. 501</td>\n",
       "      <td>1946</td>\n",
       "      <td>0.009551</td>\n",
       "      <td>0.000138</td>\n",
       "      <td>9.627164e-07</td>\n",
       "    </tr>\n",
       "    <tr>\n",
       "      <th>35</th>\n",
       "      <td>326 U.S. 517</td>\n",
       "      <td>1946</td>\n",
       "      <td>0.008835</td>\n",
       "      <td>0.000128</td>\n",
       "      <td>8.905014e-07</td>\n",
       "    </tr>\n",
       "    <tr>\n",
       "      <th>42</th>\n",
       "      <td>326 U.S. 60</td>\n",
       "      <td>1945</td>\n",
       "      <td>0.008688</td>\n",
       "      <td>0.000124</td>\n",
       "      <td>8.730523e-07</td>\n",
       "    </tr>\n",
       "    <tr>\n",
       "      <th>48</th>\n",
       "      <td>326 U.S. 77</td>\n",
       "      <td>1945</td>\n",
       "      <td>0.006940</td>\n",
       "      <td>0.000099</td>\n",
       "      <td>6.974141e-07</td>\n",
       "    </tr>\n",
       "    <tr>\n",
       "      <th>43</th>\n",
       "      <td>326 U.S. 607</td>\n",
       "      <td>1946</td>\n",
       "      <td>0.005733</td>\n",
       "      <td>0.000083</td>\n",
       "      <td>5.779103e-07</td>\n",
       "    </tr>\n",
       "    <tr>\n",
       "      <th>59</th>\n",
       "      <td>327 U.S. 186</td>\n",
       "      <td>1946</td>\n",
       "      <td>0.005560</td>\n",
       "      <td>0.000081</td>\n",
       "      <td>5.604159e-07</td>\n",
       "    </tr>\n",
       "    <tr>\n",
       "      <th>660</th>\n",
       "      <td>340 U.S. 474</td>\n",
       "      <td>1951</td>\n",
       "      <td>0.004840</td>\n",
       "      <td>0.000076</td>\n",
       "      <td>5.203061e-07</td>\n",
       "    </tr>\n",
       "    <tr>\n",
       "      <th>661</th>\n",
       "      <td>340 U.S. 498</td>\n",
       "      <td>1951</td>\n",
       "      <td>0.004442</td>\n",
       "      <td>0.000069</td>\n",
       "      <td>4.774977e-07</td>\n",
       "    </tr>\n",
       "    <tr>\n",
       "      <th>2</th>\n",
       "      <td>326 U.S. 135</td>\n",
       "      <td>1945</td>\n",
       "      <td>0.004432</td>\n",
       "      <td>0.000063</td>\n",
       "      <td>4.453447e-07</td>\n",
       "    </tr>\n",
       "    <tr>\n",
       "      <th>33</th>\n",
       "      <td>326 U.S. 496</td>\n",
       "      <td>1946</td>\n",
       "      <td>0.004359</td>\n",
       "      <td>0.000063</td>\n",
       "      <td>4.394213e-07</td>\n",
       "    </tr>\n",
       "  </tbody>\n",
       "</table>\n",
       "</div>"
      ],
      "text/plain": [
       "             case  year      rank  rank per year  rank per cases after\n",
       "34   326 U.S. 501  1946  0.009551       0.000138          9.627164e-07\n",
       "35   326 U.S. 517  1946  0.008835       0.000128          8.905014e-07\n",
       "42    326 U.S. 60  1945  0.008688       0.000124          8.730523e-07\n",
       "48    326 U.S. 77  1945  0.006940       0.000099          6.974141e-07\n",
       "43   326 U.S. 607  1946  0.005733       0.000083          5.779103e-07\n",
       "59   327 U.S. 186  1946  0.005560       0.000081          5.604159e-07\n",
       "660  340 U.S. 474  1951  0.004840       0.000076          5.203061e-07\n",
       "661  340 U.S. 498  1951  0.004442       0.000069          4.774977e-07\n",
       "2    326 U.S. 135  1945  0.004432       0.000063          4.453447e-07\n",
       "33   326 U.S. 496  1946  0.004359       0.000063          4.394213e-07"
      ]
     },
     "execution_count": 11,
     "metadata": {},
     "output_type": "execute_result"
    }
   ],
   "source": [
    "df.sort_values(by='rank per year', ascending=False).head(10)"
   ]
  },
  {
   "cell_type": "code",
   "execution_count": 12,
   "metadata": {
    "scrolled": true
   },
   "outputs": [
    {
     "data": {
      "text/plain": [
       "<matplotlib.axes._subplots.AxesSubplot at 0x7f978ac3a520>"
      ]
     },
     "execution_count": 12,
     "metadata": {},
     "output_type": "execute_result"
    },
    {
     "data": {
      "image/png": "[encoded data removed]",
      "text/plain": [
       "<Figure size 432x288 with 1 Axes>"
      ]
     },
     "metadata": {
      "needs_background": "light"
     },
     "output_type": "display_data"
    }
   ],
   "source": [
    "df.plot.scatter(x='year', y='rank', title='rank vs year')"
   ]
  },
  {
   "cell_type": "code",
   "execution_count": 13,
   "metadata": {},
   "outputs": [
    {
     "data": {
      "text/plain": [
       "<matplotlib.axes._subplots.AxesSubplot at 0x7f9788bcc9d0>"
      ]
     },
     "execution_count": 13,
     "metadata": {},
     "output_type": "execute_result"
    },
    {
     "data": {
      "image/png": "[encoded data removed]",
      "text/plain": [
       "<Figure size 432x288 with 1 Axes>"
      ]
     },
     "metadata": {
      "needs_background": "light"
     },
     "output_type": "display_data"
    }
   ],
   "source": [
    "df.plot.scatter(x='year', y='rank per year', title='rank/year vs year')"
   ]
  },
  {
   "cell_type": "code",
   "execution_count": 14,
   "metadata": {},
   "outputs": [
    {
     "data": {
      "text/plain": [
       "<matplotlib.axes._subplots.AxesSubplot at 0x7f9788b3dc70>"
      ]
     },
     "execution_count": 14,
     "metadata": {},
     "output_type": "execute_result"
    },
    {
     "data": {
      "image/png": "[encoded data removed]",
      "text/plain": [
       "<Figure size 432x288 with 1 Axes>"
      ]
     },
     "metadata": {
      "needs_background": "light"
     },
     "output_type": "display_data"
    }
   ],
   "source": [
    "df.plot.scatter(x='year', y='rank per cases after', title='rank/cases_after vs year')"
   ]
  },
  {
   "cell_type": "code",
   "execution_count": 15,
   "metadata": {},
   "outputs": [
    {
     "data": {
      "text/html": [
       "<div>\n",
       "<style scoped>\n",
       "    .dataframe tbody tr th:only-of-type {\n",
       "        vertical-align: middle;\n",
       "    }\n",
       "\n",
       "    .dataframe tbody tr th {\n",
       "        vertical-align: top;\n",
       "    }\n",
       "\n",
       "    .dataframe thead th {\n",
       "        text-align: right;\n",
       "    }\n",
       "</style>\n",
       "<table border=\"1\" class=\"dataframe\">\n",
       "  <thead>\n",
       "    <tr style=\"text-align: right;\">\n",
       "      <th></th>\n",
       "      <th>case</th>\n",
       "      <th>year</th>\n",
       "      <th>rank</th>\n",
       "      <th>rank per year</th>\n",
       "      <th>rank per cases after</th>\n",
       "    </tr>\n",
       "  </thead>\n",
       "  <tbody>\n",
       "    <tr>\n",
       "      <th>34</th>\n",
       "      <td>326 U.S. 501</td>\n",
       "      <td>1946</td>\n",
       "      <td>0.009551</td>\n",
       "      <td>0.000138</td>\n",
       "      <td>9.627164e-07</td>\n",
       "    </tr>\n",
       "    <tr>\n",
       "      <th>35</th>\n",
       "      <td>326 U.S. 517</td>\n",
       "      <td>1946</td>\n",
       "      <td>0.008835</td>\n",
       "      <td>0.000128</td>\n",
       "      <td>8.905014e-07</td>\n",
       "    </tr>\n",
       "    <tr>\n",
       "      <th>42</th>\n",
       "      <td>326 U.S. 60</td>\n",
       "      <td>1945</td>\n",
       "      <td>0.008688</td>\n",
       "      <td>0.000124</td>\n",
       "      <td>8.730523e-07</td>\n",
       "    </tr>\n",
       "    <tr>\n",
       "      <th>48</th>\n",
       "      <td>326 U.S. 77</td>\n",
       "      <td>1945</td>\n",
       "      <td>0.006940</td>\n",
       "      <td>0.000099</td>\n",
       "      <td>6.974141e-07</td>\n",
       "    </tr>\n",
       "    <tr>\n",
       "      <th>43</th>\n",
       "      <td>326 U.S. 607</td>\n",
       "      <td>1946</td>\n",
       "      <td>0.005733</td>\n",
       "      <td>0.000083</td>\n",
       "      <td>5.779103e-07</td>\n",
       "    </tr>\n",
       "    <tr>\n",
       "      <th>59</th>\n",
       "      <td>327 U.S. 186</td>\n",
       "      <td>1946</td>\n",
       "      <td>0.005560</td>\n",
       "      <td>0.000081</td>\n",
       "      <td>5.604159e-07</td>\n",
       "    </tr>\n",
       "    <tr>\n",
       "      <th>660</th>\n",
       "      <td>340 U.S. 474</td>\n",
       "      <td>1951</td>\n",
       "      <td>0.004840</td>\n",
       "      <td>0.000076</td>\n",
       "      <td>5.203061e-07</td>\n",
       "    </tr>\n",
       "    <tr>\n",
       "      <th>661</th>\n",
       "      <td>340 U.S. 498</td>\n",
       "      <td>1951</td>\n",
       "      <td>0.004442</td>\n",
       "      <td>0.000069</td>\n",
       "      <td>4.774977e-07</td>\n",
       "    </tr>\n",
       "    <tr>\n",
       "      <th>2</th>\n",
       "      <td>326 U.S. 135</td>\n",
       "      <td>1945</td>\n",
       "      <td>0.004432</td>\n",
       "      <td>0.000063</td>\n",
       "      <td>4.453447e-07</td>\n",
       "    </tr>\n",
       "    <tr>\n",
       "      <th>33</th>\n",
       "      <td>326 U.S. 496</td>\n",
       "      <td>1946</td>\n",
       "      <td>0.004359</td>\n",
       "      <td>0.000063</td>\n",
       "      <td>4.394213e-07</td>\n",
       "    </tr>\n",
       "    <tr>\n",
       "      <th>94</th>\n",
       "      <td>327 U.S. 711</td>\n",
       "      <td>1946</td>\n",
       "      <td>0.004287</td>\n",
       "      <td>0.000062</td>\n",
       "      <td>4.321404e-07</td>\n",
       "    </tr>\n",
       "    <tr>\n",
       "      <th>93</th>\n",
       "      <td>327 U.S. 686</td>\n",
       "      <td>1946</td>\n",
       "      <td>0.004200</td>\n",
       "      <td>0.000061</td>\n",
       "      <td>4.233535e-07</td>\n",
       "    </tr>\n",
       "    <tr>\n",
       "      <th>257</th>\n",
       "      <td>331 U.S. 549</td>\n",
       "      <td>1947</td>\n",
       "      <td>0.003922</td>\n",
       "      <td>0.000058</td>\n",
       "      <td>4.008903e-07</td>\n",
       "    </tr>\n",
       "    <tr>\n",
       "      <th>0</th>\n",
       "      <td>326 U.S. 1</td>\n",
       "      <td>1945</td>\n",
       "      <td>0.003773</td>\n",
       "      <td>0.000054</td>\n",
       "      <td>3.791886e-07</td>\n",
       "    </tr>\n",
       "    <tr>\n",
       "      <th>36</th>\n",
       "      <td>326 U.S. 521</td>\n",
       "      <td>1946</td>\n",
       "      <td>0.003698</td>\n",
       "      <td>0.000054</td>\n",
       "      <td>3.727532e-07</td>\n",
       "    </tr>\n",
       "    <tr>\n",
       "      <th>58</th>\n",
       "      <td>327 U.S. 178</td>\n",
       "      <td>1946</td>\n",
       "      <td>0.003545</td>\n",
       "      <td>0.000051</td>\n",
       "      <td>3.573123e-07</td>\n",
       "    </tr>\n",
       "    <tr>\n",
       "      <th>38</th>\n",
       "      <td>326 U.S. 549</td>\n",
       "      <td>1946</td>\n",
       "      <td>0.003501</td>\n",
       "      <td>0.000051</td>\n",
       "      <td>3.529199e-07</td>\n",
       "    </tr>\n",
       "    <tr>\n",
       "      <th>14</th>\n",
       "      <td>326 U.S. 271</td>\n",
       "      <td>1945</td>\n",
       "      <td>0.003468</td>\n",
       "      <td>0.000050</td>\n",
       "      <td>3.484587e-07</td>\n",
       "    </tr>\n",
       "    <tr>\n",
       "      <th>66</th>\n",
       "      <td>327 U.S. 304</td>\n",
       "      <td>1946</td>\n",
       "      <td>0.003326</td>\n",
       "      <td>0.000048</td>\n",
       "      <td>3.352715e-07</td>\n",
       "    </tr>\n",
       "    <tr>\n",
       "      <th>15</th>\n",
       "      <td>326 U.S. 279</td>\n",
       "      <td>1945</td>\n",
       "      <td>0.003092</td>\n",
       "      <td>0.000044</td>\n",
       "      <td>3.106895e-07</td>\n",
       "    </tr>\n",
       "  </tbody>\n",
       "</table>\n",
       "</div>"
      ],
      "text/plain": [
       "             case  year      rank  rank per year  rank per cases after\n",
       "34   326 U.S. 501  1946  0.009551       0.000138          9.627164e-07\n",
       "35   326 U.S. 517  1946  0.008835       0.000128          8.905014e-07\n",
       "42    326 U.S. 60  1945  0.008688       0.000124          8.730523e-07\n",
       "48    326 U.S. 77  1945  0.006940       0.000099          6.974141e-07\n",
       "43   326 U.S. 607  1946  0.005733       0.000083          5.779103e-07\n",
       "59   327 U.S. 186  1946  0.005560       0.000081          5.604159e-07\n",
       "660  340 U.S. 474  1951  0.004840       0.000076          5.203061e-07\n",
       "661  340 U.S. 498  1951  0.004442       0.000069          4.774977e-07\n",
       "2    326 U.S. 135  1945  0.004432       0.000063          4.453447e-07\n",
       "33   326 U.S. 496  1946  0.004359       0.000063          4.394213e-07\n",
       "94   327 U.S. 711  1946  0.004287       0.000062          4.321404e-07\n",
       "93   327 U.S. 686  1946  0.004200       0.000061          4.233535e-07\n",
       "257  331 U.S. 549  1947  0.003922       0.000058          4.008903e-07\n",
       "0      326 U.S. 1  1945  0.003773       0.000054          3.791886e-07\n",
       "36   326 U.S. 521  1946  0.003698       0.000054          3.727532e-07\n",
       "58   327 U.S. 178  1946  0.003545       0.000051          3.573123e-07\n",
       "38   326 U.S. 549  1946  0.003501       0.000051          3.529199e-07\n",
       "14   326 U.S. 271  1945  0.003468       0.000050          3.484587e-07\n",
       "66   327 U.S. 304  1946  0.003326       0.000048          3.352715e-07\n",
       "15   326 U.S. 279  1945  0.003092       0.000044          3.106895e-07"
      ]
     },
     "execution_count": 15,
     "metadata": {},
     "output_type": "execute_result"
    }
   ],
   "source": [
    "# the first 15 values are all 2014 cases at with high ratios of rank to cases\n",
    "# after, since they have very few cases after\n",
    "df.sort_values(by='rank per year', ascending=False).head(20)"
   ]
  },
  {
   "cell_type": "markdown",
   "metadata": {},
   "source": [
    "Interestingly, by all metrics, the earliest cases uder the Vinson court are found to be among the most influential, except where we divide by number of cases after which leads us to believe that the most recent cases are extremely influential for the number of cases coming fater them, which makes some sense because almost no cases come after them; but even then, the Vinson Court's decisions are the next-most influential cases.  This suggests that the court's opinions from that time have been most influential, more so even than the Warren Court's.  This seems out of place with what we would expect from our anecdotal evidence that the Warren court presided over a revolution in our view of the constitution, and that Ronald Reagan's appointees molded the court's ideology into an influentially conservative one.  Let us see what happens to our assessment when the Vinson Court's cases are removed from our consideration."
   ]
  },
  {
   "cell_type": "code",
   "execution_count": 16,
   "metadata": {},
   "outputs": [
    {
     "data": {
      "text/plain": [
       "<matplotlib.axes._subplots.AxesSubplot at 0x7f978e1eac10>"
      ]
     },
     "execution_count": 16,
     "metadata": {},
     "output_type": "execute_result"
    },
    {
     "data": {
      "image/png": "[encoded data removed]",
      "text/plain": [
       "<Figure size 432x288 with 1 Axes>"
      ]
     },
     "metadata": {
      "needs_background": "light"
     },
     "output_type": "display_data"
    }
   ],
   "source": [
    "vinson_court_end = 1953\n",
    "old_cases = df[df['year'] <= vinson_court_end]['case']\n",
    "new_df = df[df['year'] > vinson_court_end].copy()\n",
    "for case in old_cases:\n",
    "    if case in G:\n",
    "        G.remove_node(case)\n",
    "\n",
    "ranks = nx.pagerank(G, max_iter=200)\n",
    "new_df['ranks'] = list(ranks.values())\n",
    "new_df['rank per year'] = new_df.apply(lambda tup: tup['rank'] / (now - tup['year'] + 1), axis=1)\n",
    "new_df['rank per cases after'] = \\\n",
    "new_df.apply(lambda tup: tup['rank'] / (len(new_df[new_df['year'] >= tup['year']])), axis=1)\n",
    "\n",
    "new_df.plot.scatter(x='year', y='rank', title='rank vs year, Vinson Court excluded')"
   ]
  },
  {
   "cell_type": "code",
   "execution_count": 17,
   "metadata": {},
   "outputs": [
    {
     "data": {
      "text/plain": [
       "<matplotlib.axes._subplots.AxesSubplot at 0x7f97908359a0>"
      ]
     },
     "execution_count": 17,
     "metadata": {},
     "output_type": "execute_result"
    },
    {
     "data": {
      "image/png": "[encoded data removed]",
      "text/plain": [
       "<Figure size 432x288 with 1 Axes>"
      ]
     },
     "metadata": {
      "needs_background": "light"
     },
     "output_type": "display_data"
    }
   ],
   "source": [
    "new_df.plot.scatter(x='year', y='rank per year', title='rank/year vs year, Vinson Court excluded')"
   ]
  },
  {
   "cell_type": "code",
   "execution_count": 18,
   "metadata": {},
   "outputs": [
    {
     "data": {
      "text/plain": [
       "<matplotlib.axes._subplots.AxesSubplot at 0x7f97908d5940>"
      ]
     },
     "execution_count": 18,
     "metadata": {},
     "output_type": "execute_result"
    },
    {
     "data": {
      "image/png": "[encoded data removed]",
      "text/plain": [
       "<Figure size 432x288 with 1 Axes>"
      ]
     },
     "metadata": {
      "needs_background": "light"
     },
     "output_type": "display_data"
    }
   ],
   "source": [
    "new_df.plot.scatter(x='year', y='rank per cases after', title = 'rank/cases_after vs year, Vinson Court excluded')"
   ]
  },
  {
   "cell_type": "code",
   "execution_count": 19,
   "metadata": {},
   "outputs": [
    {
     "name": "stderr",
     "output_type": "stream",
     "text": [
      "<ipython-input-19-88e9fa2c083f>:3: UserWarning: Boolean Series key will be reindexed to match DataFrame index.\n",
      "  new_df.sort_values(by='rank per year', ascending=False).head(35)[new_df['year'] < 2010]\n"
     ]
    },
    {
     "data": {
      "text/html": [
       "<div>\n",
       "<style scoped>\n",
       "    .dataframe tbody tr th:only-of-type {\n",
       "        vertical-align: middle;\n",
       "    }\n",
       "\n",
       "    .dataframe tbody tr th {\n",
       "        vertical-align: top;\n",
       "    }\n",
       "\n",
       "    .dataframe thead th {\n",
       "        text-align: right;\n",
       "    }\n",
       "</style>\n",
       "<table border=\"1\" class=\"dataframe\">\n",
       "  <thead>\n",
       "    <tr style=\"text-align: right;\">\n",
       "      <th></th>\n",
       "      <th>case</th>\n",
       "      <th>year</th>\n",
       "      <th>rank</th>\n",
       "      <th>rank per year</th>\n",
       "      <th>rank per cases after</th>\n",
       "      <th>ranks</th>\n",
       "    </tr>\n",
       "  </thead>\n",
       "  <tbody>\n",
       "    <tr>\n",
       "      <th>2494</th>\n",
       "      <td>372 U.S. 335</td>\n",
       "      <td>1963</td>\n",
       "      <td>0.001954</td>\n",
       "      <td>0.000038</td>\n",
       "      <td>2.606790e-07</td>\n",
       "      <td>0.003259</td>\n",
       "    </tr>\n",
       "    <tr>\n",
       "      <th>210</th>\n",
       "      <td>330 U.S. 485</td>\n",
       "      <td>1969</td>\n",
       "      <td>0.001672</td>\n",
       "      <td>0.000036</td>\n",
       "      <td>2.853838e-07</td>\n",
       "      <td>0.000313</td>\n",
       "    </tr>\n",
       "    <tr>\n",
       "      <th>996</th>\n",
       "      <td>347 U.S. 483</td>\n",
       "      <td>1954</td>\n",
       "      <td>0.001834</td>\n",
       "      <td>0.000030</td>\n",
       "      <td>2.039811e-07</td>\n",
       "      <td>0.005694</td>\n",
       "    </tr>\n",
       "    <tr>\n",
       "      <th>1158</th>\n",
       "      <td>351 U.S. 12</td>\n",
       "      <td>1956</td>\n",
       "      <td>0.001552</td>\n",
       "      <td>0.000026</td>\n",
       "      <td>1.755550e-07</td>\n",
       "      <td>0.003695</td>\n",
       "    </tr>\n",
       "    <tr>\n",
       "      <th>2894</th>\n",
       "      <td>377 U.S. 533</td>\n",
       "      <td>1964</td>\n",
       "      <td>0.001215</td>\n",
       "      <td>0.000024</td>\n",
       "      <td>1.689792e-07</td>\n",
       "      <td>0.001951</td>\n",
       "    </tr>\n",
       "    <tr>\n",
       "      <th>2273</th>\n",
       "      <td>369 U.S. 186</td>\n",
       "      <td>1962</td>\n",
       "      <td>0.001252</td>\n",
       "      <td>0.000024</td>\n",
       "      <td>1.624293e-07</td>\n",
       "      <td>0.002428</td>\n",
       "    </tr>\n",
       "    <tr>\n",
       "      <th>1303</th>\n",
       "      <td>354 U.S. 476</td>\n",
       "      <td>1957</td>\n",
       "      <td>0.001159</td>\n",
       "      <td>0.000020</td>\n",
       "      <td>1.325662e-07</td>\n",
       "      <td>0.003250</td>\n",
       "    </tr>\n",
       "    <tr>\n",
       "      <th>3393</th>\n",
       "      <td>384 U.S. 436</td>\n",
       "      <td>1966</td>\n",
       "      <td>0.000971</td>\n",
       "      <td>0.000020</td>\n",
       "      <td>1.451613e-07</td>\n",
       "      <td>0.001534</td>\n",
       "    </tr>\n",
       "    <tr>\n",
       "      <th>7006</th>\n",
       "      <td>467 U.S. 837</td>\n",
       "      <td>1984</td>\n",
       "      <td>0.000602</td>\n",
       "      <td>0.000019</td>\n",
       "      <td>1.962496e-07</td>\n",
       "      <td>0.000856</td>\n",
       "    </tr>\n",
       "    <tr>\n",
       "      <th>2495</th>\n",
       "      <td>372 U.S. 353</td>\n",
       "      <td>1963</td>\n",
       "      <td>0.000958</td>\n",
       "      <td>0.000018</td>\n",
       "      <td>1.278177e-07</td>\n",
       "      <td>0.001498</td>\n",
       "    </tr>\n",
       "    <tr>\n",
       "      <th>2171</th>\n",
       "      <td>367 U.S. 643</td>\n",
       "      <td>1961</td>\n",
       "      <td>0.000965</td>\n",
       "      <td>0.000018</td>\n",
       "      <td>1.218313e-07</td>\n",
       "      <td>0.001907</td>\n",
       "    </tr>\n",
       "    <tr>\n",
       "      <th>1532</th>\n",
       "      <td>357 U.S. 449</td>\n",
       "      <td>1958</td>\n",
       "      <td>0.001015</td>\n",
       "      <td>0.000018</td>\n",
       "      <td>1.184149e-07</td>\n",
       "      <td>0.002929</td>\n",
       "    </tr>\n",
       "    <tr>\n",
       "      <th>3056</th>\n",
       "      <td>380 U.S. 1</td>\n",
       "      <td>1965</td>\n",
       "      <td>0.000875</td>\n",
       "      <td>0.000018</td>\n",
       "      <td>1.265664e-07</td>\n",
       "      <td>0.001564</td>\n",
       "    </tr>\n",
       "    <tr>\n",
       "      <th>1267</th>\n",
       "      <td>353 U.S. 448</td>\n",
       "      <td>1957</td>\n",
       "      <td>0.000865</td>\n",
       "      <td>0.000015</td>\n",
       "      <td>9.899057e-08</td>\n",
       "      <td>0.002381</td>\n",
       "    </tr>\n",
       "    <tr>\n",
       "      <th>1538</th>\n",
       "      <td>357 U.S. 513</td>\n",
       "      <td>1958</td>\n",
       "      <td>0.000850</td>\n",
       "      <td>0.000015</td>\n",
       "      <td>9.914473e-08</td>\n",
       "      <td>0.002429</td>\n",
       "    </tr>\n",
       "    <tr>\n",
       "      <th>2041</th>\n",
       "      <td>365 U.S. 167</td>\n",
       "      <td>1961</td>\n",
       "      <td>0.000805</td>\n",
       "      <td>0.000015</td>\n",
       "      <td>1.015637e-07</td>\n",
       "      <td>0.001717</td>\n",
       "    </tr>\n",
       "    <tr>\n",
       "      <th>3091</th>\n",
       "      <td>380 U.S. 400</td>\n",
       "      <td>1965</td>\n",
       "      <td>0.000733</td>\n",
       "      <td>0.000015</td>\n",
       "      <td>1.060361e-07</td>\n",
       "      <td>0.001383</td>\n",
       "    </tr>\n",
       "    <tr>\n",
       "      <th>5606</th>\n",
       "      <td>428 U.S. 153</td>\n",
       "      <td>1976</td>\n",
       "      <td>0.000567</td>\n",
       "      <td>0.000015</td>\n",
       "      <td>1.265528e-07</td>\n",
       "      <td>0.000846</td>\n",
       "    </tr>\n",
       "    <tr>\n",
       "      <th>4434</th>\n",
       "      <td>397 U.S. 471</td>\n",
       "      <td>1970</td>\n",
       "      <td>0.000604</td>\n",
       "      <td>0.000013</td>\n",
       "      <td>1.079912e-07</td>\n",
       "      <td>0.000943</td>\n",
       "    </tr>\n",
       "    <tr>\n",
       "      <th>2902</th>\n",
       "      <td>378 U.S. 1</td>\n",
       "      <td>1964</td>\n",
       "      <td>0.000677</td>\n",
       "      <td>0.000013</td>\n",
       "      <td>9.415422e-08</td>\n",
       "      <td>0.001299</td>\n",
       "    </tr>\n",
       "  </tbody>\n",
       "</table>\n",
       "</div>"
      ],
      "text/plain": [
       "              case  year      rank  rank per year  rank per cases after  \\\n",
       "2494  372 U.S. 335  1963  0.001954       0.000038          2.606790e-07   \n",
       "210   330 U.S. 485  1969  0.001672       0.000036          2.853838e-07   \n",
       "996   347 U.S. 483  1954  0.001834       0.000030          2.039811e-07   \n",
       "1158   351 U.S. 12  1956  0.001552       0.000026          1.755550e-07   \n",
       "2894  377 U.S. 533  1964  0.001215       0.000024          1.689792e-07   \n",
       "2273  369 U.S. 186  1962  0.001252       0.000024          1.624293e-07   \n",
       "1303  354 U.S. 476  1957  0.001159       0.000020          1.325662e-07   \n",
       "3393  384 U.S. 436  1966  0.000971       0.000020          1.451613e-07   \n",
       "7006  467 U.S. 837  1984  0.000602       0.000019          1.962496e-07   \n",
       "2495  372 U.S. 353  1963  0.000958       0.000018          1.278177e-07   \n",
       "2171  367 U.S. 643  1961  0.000965       0.000018          1.218313e-07   \n",
       "1532  357 U.S. 449  1958  0.001015       0.000018          1.184149e-07   \n",
       "3056    380 U.S. 1  1965  0.000875       0.000018          1.265664e-07   \n",
       "1267  353 U.S. 448  1957  0.000865       0.000015          9.899057e-08   \n",
       "1538  357 U.S. 513  1958  0.000850       0.000015          9.914473e-08   \n",
       "2041  365 U.S. 167  1961  0.000805       0.000015          1.015637e-07   \n",
       "3091  380 U.S. 400  1965  0.000733       0.000015          1.060361e-07   \n",
       "5606  428 U.S. 153  1976  0.000567       0.000015          1.265528e-07   \n",
       "4434  397 U.S. 471  1970  0.000604       0.000013          1.079912e-07   \n",
       "2902    378 U.S. 1  1964  0.000677       0.000013          9.415422e-08   \n",
       "\n",
       "         ranks  \n",
       "2494  0.003259  \n",
       "210   0.000313  \n",
       "996   0.005694  \n",
       "1158  0.003695  \n",
       "2894  0.001951  \n",
       "2273  0.002428  \n",
       "1303  0.003250  \n",
       "3393  0.001534  \n",
       "7006  0.000856  \n",
       "2495  0.001498  \n",
       "2171  0.001907  \n",
       "1532  0.002929  \n",
       "3056  0.001564  \n",
       "1267  0.002381  \n",
       "1538  0.002429  \n",
       "2041  0.001717  \n",
       "3091  0.001383  \n",
       "5606  0.000846  \n",
       "4434  0.000943  \n",
       "2902  0.001299  "
      ]
     },
     "execution_count": 19,
     "metadata": {},
     "output_type": "execute_result"
    }
   ],
   "source": [
    "# we again exclude the most recent cases, whose values for this metric is distorted by the\n",
    "# small number of years they have existed.\n",
    "new_df.sort_values(by='rank per year', ascending=False).head(35)[new_df['year'] < 2010]"
   ]
  },
  {
   "cell_type": "markdown",
   "metadata": {},
   "source": [
    "This set of cases is more in line with what we expect to see.  372 U.S. 335 is the case Gideon v. Wainwright, which is one of the most prominent decisions by the Warren Court, and 347 U.S. 483 is Brown v. Board of Ed., another landmark which ended the notorious \"Separate but Equal\" doctrine with regard to racial segregation. 384 U.S. 436 (Miranda v. Arizona) has already been mentioned; and 369 U.S. 186 (Baker v. Carr) and 377 U.S. 533 (Reynolds v. Sims) deal with voting rights; specifically, that legislative districts must be roughly equal in population to preserve the equality of every citizen's vote, and tht this can be enforced by litigation.  One standout among these cases is 467 U.S. 837 (Chevron v. Natural Resources Defense Council), which is from 1984, far later than the mainly Warren-era cases.  It deals with the extent to which executive agencies have felxibility and agency in interpreting laws passed by Congress, and ruled in favor of significant agency.  Notably, we again see no trend for important cases during the Reagan era, which could mean one of many things.  One possibility is that the conventional wisdom that Reagan's compositions significantly altered the federal judiciary is overstated, and his impact is in line with other presidents.  Another is that we have yet to see the full impact of the cases decided by Reagan's appointees, and that as time goes on and more cases cite the Rehnquist Court's cases and cases citing Rehnquist's cases, we will see the Rehnquist Court's cases grow in importance like the Vinson and Burger Courts'; and yet another possibility is that age will tend to make some cases from every Court important and Reagan's cases haven't aged enough yet.  Perhaps some combination of all three is true, in degrees.\n",
    "\n",
    "That brings us back to the present day.  We have evidence that past decisions can be very influential in the interpretation of current law, and we now have a majority on the Supreme Court which is likely to steer future opinions in a conservative direction.  In some ways, we can rely on the large body of past decisions for stability.  The fact that they are still binding means that barring an extremely radical move by the new Court, we are likely not to see outright reversals of the rulings like Gideon and Miranda which have granted (rightly or wrongly) significant protections to individuals against government.  To reverse these decisions would be to pull out the rug from under a huge body of case law, a move most jurists liberal and conservative shy away from.  In other ways, we have reason to be concerned.  Cases are brewing against tech giants, with claims of monopoly and misinformation being leveled at different companies.  Bound by little precedent, the court may have significant liberty to rule on how technology companies can be regulated, and future courts will be bound by the precedent set by those decisions.  Thus, the consequences of the Court's decisions could be massive.\n",
    "\n",
    "To reduce the seemingly undemocratic nature of the court, where the timing of one person's death can result in significant changes to how American law in interpreted, some Democrats have proposed expanding the court to fill more seats with liberal justices and restore (or perhaps more than restore) the old status quo.  With Democratic control over the Senate looking unlikely, these plans will probably be shelved for now, but other proposals, like an amendment limiting the tenure of justices, or reduction of the jurisdiction of the Supreme Court, might find their way to fruition if a party with control over the elected branches should ever find itself in conflict with the Court."
   ]
  },
  {
   "cell_type": "code",
   "execution_count": null,
   "metadata": {},
   "outputs": [],
   "source": []
  },
  {
   "cell_type": "code",
   "execution_count": null,
   "metadata": {},
   "outputs": [],
   "source": []
  }
 ],
 "metadata": {
  "kernelspec": {
   "display_name": "Python 3",
   "language": "python",
   "name": "python3"
  },
  "language_info": {
   "codemirror_mode": {
    "name": "ipython",
    "version": 3
   },
   "file_extension": ".py",
   "mimetype": "text/x-python",
   "name": "python",
   "nbconvert_exporter": "python",
   "pygments_lexer": "ipython3",
   "version": "3.8.5"
  }
 },
 "nbformat": 4,
 "nbformat_minor": 4
}
